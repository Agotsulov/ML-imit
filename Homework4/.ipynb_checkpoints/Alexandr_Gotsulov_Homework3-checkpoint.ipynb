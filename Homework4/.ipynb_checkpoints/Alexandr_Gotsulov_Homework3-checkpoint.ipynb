{
 "cells": [
  {
   "cell_type": "markdown",
   "metadata": {},
   "source": [
    "Дано множество объектов, характеризуемых одним (!) признаком. То есть объекты представляются точками на числовой прямой. Создать массив значений признаков объектов, и вместо таблиц работать с этим массивом. Нужно данные разбить на k кластеров, реализовав самостоятельно одну итерацию алгоритма k-means (нормировать данные не нужно)."
   ]
  },
  {
   "cell_type": "code",
   "execution_count": 124,
   "metadata": {},
   "outputs": [
    {
     "name": "stdout",
     "output_type": "stream",
     "text": [
      "Вход\n",
      "[4 7 7 3 4 1 3 6 8 6 5 0 4 8 2 5 7 0 1 6]\n",
      "Кластеры\n",
      "Центры кластеров\n",
      "[0 1 5 7]\n",
      "[[0, 0], [3, 1, 3, 2, 1], [4, 4, 5, 4, 5], [7, 7, 6, 8, 6, 8, 7, 6]]\n"
     ]
    }
   ],
   "source": [
    "import numpy as np\n",
    "import math\n",
    "import random \n",
    "\n",
    "size = 20\n",
    "max_n = 10\n",
    "\n",
    "n = np.random.randint(max_n, size=size)\n",
    "\n",
    "print(\"Вход\")\n",
    "print(n)\n",
    "\n",
    "def get_random_clusters(max_n_, k):\n",
    "    return np.random.randint(max_n_, size=k)\n",
    "\n",
    "def kmeans(a, k, cluster_f):\n",
    "    result = [[] for i in range(0, k)]\n",
    "    \n",
    "    clusters = cluster_f(np.max(a), k)\n",
    "    \n",
    "    dis = np.array([10000 for i in range(0, np.size(a) * k)]).reshape(k, np.size(a))\n",
    "    \n",
    "    for i in range(0, np.size(clusters)):\n",
    "        for j in range(0, np.size(a)):\n",
    "            dis[i][j] = math.fabs(clusters[i] - a[j]) \n",
    "            \n",
    "    for i in range(0, np.size(a)):\n",
    "        min_index = -1\n",
    "        for j in range(0, np.size(clusters)):\n",
    "            if dis[j][i] < dis[min_index][i]:\n",
    "                min_index = j\n",
    "        #print(min_index, end=\" : \")\n",
    "        #print(a[i])\n",
    "        result[min_index].append(a[i])\n",
    "    \n",
    "    print(\"Центры кластеров\")    \n",
    "    print(clusters)\n",
    "    return result\n",
    "    #print(result)\n",
    "    #print(clusters)\n",
    "    #print(dis)\n",
    "\n",
    "\n",
    "print(\"Кластеры\")\n",
    "print(kmeans(n, 4, get_random_clusters))\n"
   ]
  },
  {
   "cell_type": "markdown",
   "metadata": {},
   "source": [
    "Запустить полученный выше алгоритм в цикле, пока кластеры не стабилизируются. На экран вывести пары: (значение признака, номер кластера). Совет: при тестировании алгоритма сгенерируйте три массива, значения которы принадлежат соответственно интервалам [0,1] [2,3] [4,5]. ОБъединим их в один массив - его и будем кластеризовать. И запустите разбиение данных на три кластера. Всегда ли алгоритм находит \"естественное разбиение объектов на кластеры\"."
   ]
  },
  {
   "cell_type": "code",
   "execution_count": 116,
   "metadata": {},
   "outputs": [
    {
     "name": "stdout",
     "output_type": "stream",
     "text": [
      "Вход\n",
      "[ 5  4  8  9  5 22 24 29 25 26 47 45 49 44 41]\n",
      "Центры кластеров\n",
      "[43 31 18]\n",
      "[11  9 22]\n",
      "[38  5 44]\n",
      "[32  3 37]\n",
      "Кластеры\n",
      "[[22, 24, 29, 25, 26], [5, 4, 8, 9, 5], [47, 45, 49, 44, 41]]\n",
      "Вход\n",
      "[6, 3, 9, 9, 3, 21, 21, 28, 25, 29, 43, 44, 42, 40, 46]\n",
      "Центры кластеров\n",
      "[10 24  6]\n",
      "[23 31  4]\n",
      "[21 34 20]\n",
      "Кластеры\n",
      "[[21, 21, 25], [28, 29, 43, 44, 42, 40, 46], [6, 3, 9, 9, 3]]\n",
      "Вход\n",
      "[6, 3, 9, 9, 3, 21, 21, 28, 25, 29, 43, 44, 42, 40, 46]\n",
      "Центры кластеров\n",
      "[18 19 33]\n",
      "[36 24  0]\n",
      "[38 35 36]\n",
      "[ 4 19 43]\n",
      "[ 7 41  8]\n",
      "[29 20  2]\n",
      "[ 3 21 16]\n",
      "[16 40  3]\n",
      "[22 37 38]\n",
      "[37 11 23]\n",
      "[33 16 40]\n",
      "[23 21 39]\n",
      "Кластеры\n",
      "[[28, 25, 29], [6, 3, 9, 9, 3, 21, 21], [43, 44, 42, 40, 46]]\n"
     ]
    }
   ],
   "source": [
    "size = 5\n",
    "\n",
    "n1 = np.random.randint(0, 10, size=size)\n",
    "n2 = np.random.randint(20, 30, size=size)\n",
    "n3 = np.random.randint(40, 50, size=size)\n",
    "\n",
    "n = n1\n",
    "n = np.append(n, n2)\n",
    "n = np.append(n, n3)\n",
    "\n",
    "\n",
    "def find_clusters(n):\n",
    "    print(\"Вход\")\n",
    "    print(n)\n",
    "    result_old = np.array([])\n",
    "    print(\"Центры кластеров\")\n",
    "    result = kmeans(n, 3, get_random_clusters)\n",
    "    while not np.array_equal(result,result_old):\n",
    "        result_old = result\n",
    "        result = kmeans(n, 3, get_random_clusters)\n",
    "    print(\"Кластеры\")\n",
    "    return result\n",
    "    \n",
    "print(find_clusters(n))\n",
    "\n",
    "n = [6, 3, 9, 9, 3, 21, 21, 28, 25, 29, 43, 44, 42, 40, 46] #Пример что не сегда ли алгоритм находит естественное разбиение \n",
    "\n",
    "print(find_clusters(n))\n",
    "    \n",
    "n = [6, 3, 9, 9, 3, 21, 21, 28, 25, 29, 43, 44, 42, 40, 46] #Пример что не сегда ли алгоритм находит естественное разбиение \n",
    "\n",
    "print(find_clusters(n))\n",
    "\n",
    "    "
   ]
  },
  {
   "cell_type": "code",
   "execution_count": null,
   "metadata": {},
   "outputs": [],
   "source": []
  }
 ],
 "metadata": {
  "kernelspec": {
   "display_name": "Python 3",
   "language": "python",
   "name": "python3"
  },
  "language_info": {
   "codemirror_mode": {
    "name": "ipython",
    "version": 3
   },
   "file_extension": ".py",
   "mimetype": "text/x-python",
   "name": "python",
   "nbconvert_exporter": "python",
   "pygments_lexer": "ipython3",
   "version": "3.7.0"
  }
 },
 "nbformat": 4,
 "nbformat_minor": 2
}
