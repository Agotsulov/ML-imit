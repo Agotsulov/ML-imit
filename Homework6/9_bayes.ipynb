{
 "cells": [
  {
   "cell_type": "code",
   "execution_count": 55,
   "metadata": {},
   "outputs": [
    {
     "data": {
      "text/html": [
       "<div>\n",
       "<table border=\"1\" class=\"dataframe\">\n",
       "  <thead>\n",
       "    <tr style=\"text-align: right;\">\n",
       "      <th></th>\n",
       "      <th>sex</th>\n",
       "      <th>age</th>\n",
       "      <th>growth</th>\n",
       "      <th>birth</th>\n",
       "      <th>EGEmath</th>\n",
       "      <th>EGEruss</th>\n",
       "      <th>EGEphis</th>\n",
       "      <th>s1</th>\n",
       "      <th>s2</th>\n",
       "      <th>s3</th>\n",
       "      <th>...</th>\n",
       "      <th>yes3</th>\n",
       "      <th>yes4</th>\n",
       "      <th>yes5</th>\n",
       "      <th>yes6</th>\n",
       "      <th>yes7</th>\n",
       "      <th>hostel</th>\n",
       "      <th>duration</th>\n",
       "      <th>course</th>\n",
       "      <th>coin</th>\n",
       "      <th>stones</th>\n",
       "    </tr>\n",
       "  </thead>\n",
       "  <tbody>\n",
       "    <tr>\n",
       "      <th>0</th>\n",
       "      <td>0</td>\n",
       "      <td>19</td>\n",
       "      <td>173</td>\n",
       "      <td>14.05.1996</td>\n",
       "      <td>56</td>\n",
       "      <td>67</td>\n",
       "      <td>47</td>\n",
       "      <td>3.6</td>\n",
       "      <td>3.6</td>\n",
       "      <td>3.50</td>\n",
       "      <td>...</td>\n",
       "      <td>0</td>\n",
       "      <td>0</td>\n",
       "      <td>0</td>\n",
       "      <td>0</td>\n",
       "      <td>0</td>\n",
       "      <td>0</td>\n",
       "      <td>15</td>\n",
       "      <td>2</td>\n",
       "      <td>1</td>\n",
       "      <td>2</td>\n",
       "    </tr>\n",
       "    <tr>\n",
       "      <th>1</th>\n",
       "      <td>1</td>\n",
       "      <td>19</td>\n",
       "      <td>182</td>\n",
       "      <td>22.08.1996</td>\n",
       "      <td>50</td>\n",
       "      <td>50</td>\n",
       "      <td>49</td>\n",
       "      <td>3.0</td>\n",
       "      <td>3.0</td>\n",
       "      <td>4.00</td>\n",
       "      <td>...</td>\n",
       "      <td>1</td>\n",
       "      <td>0</td>\n",
       "      <td>0</td>\n",
       "      <td>0</td>\n",
       "      <td>0</td>\n",
       "      <td>0</td>\n",
       "      <td>90</td>\n",
       "      <td>2</td>\n",
       "      <td>0</td>\n",
       "      <td>0</td>\n",
       "    </tr>\n",
       "    <tr>\n",
       "      <th>2</th>\n",
       "      <td>1</td>\n",
       "      <td>20</td>\n",
       "      <td>193</td>\n",
       "      <td>13.10.1995</td>\n",
       "      <td>67</td>\n",
       "      <td>62</td>\n",
       "      <td>58</td>\n",
       "      <td>4.5</td>\n",
       "      <td>4.0</td>\n",
       "      <td>3.25</td>\n",
       "      <td>...</td>\n",
       "      <td>1</td>\n",
       "      <td>0</td>\n",
       "      <td>0</td>\n",
       "      <td>0</td>\n",
       "      <td>0</td>\n",
       "      <td>0</td>\n",
       "      <td>15</td>\n",
       "      <td>2</td>\n",
       "      <td>0</td>\n",
       "      <td>0</td>\n",
       "    </tr>\n",
       "    <tr>\n",
       "      <th>3</th>\n",
       "      <td>1</td>\n",
       "      <td>29</td>\n",
       "      <td>170</td>\n",
       "      <td>01.12.1986</td>\n",
       "      <td>100</td>\n",
       "      <td>100</td>\n",
       "      <td>100</td>\n",
       "      <td>5.0</td>\n",
       "      <td>5.0</td>\n",
       "      <td>5.00</td>\n",
       "      <td>...</td>\n",
       "      <td>1</td>\n",
       "      <td>1</td>\n",
       "      <td>1</td>\n",
       "      <td>1</td>\n",
       "      <td>1</td>\n",
       "      <td>0</td>\n",
       "      <td>30</td>\n",
       "      <td>5</td>\n",
       "      <td>0</td>\n",
       "      <td>2</td>\n",
       "    </tr>\n",
       "    <tr>\n",
       "      <th>4</th>\n",
       "      <td>0</td>\n",
       "      <td>20</td>\n",
       "      <td>160</td>\n",
       "      <td>01.09.1995</td>\n",
       "      <td>70</td>\n",
       "      <td>54</td>\n",
       "      <td>46</td>\n",
       "      <td>3.0</td>\n",
       "      <td>3.0</td>\n",
       "      <td>3.00</td>\n",
       "      <td>...</td>\n",
       "      <td>0</td>\n",
       "      <td>0</td>\n",
       "      <td>0</td>\n",
       "      <td>0</td>\n",
       "      <td>0</td>\n",
       "      <td>0</td>\n",
       "      <td>20</td>\n",
       "      <td>2</td>\n",
       "      <td>0</td>\n",
       "      <td>1</td>\n",
       "    </tr>\n",
       "  </tbody>\n",
       "</table>\n",
       "<p>5 rows × 26 columns</p>\n",
       "</div>"
      ],
      "text/plain": [
       "   sex  age  growth       birth  EGEmath  EGEruss  EGEphis   s1   s2    s3  \\\n",
       "0    0   19     173  14.05.1996       56       67       47  3.6  3.6  3.50   \n",
       "1    1   19     182  22.08.1996       50       50       49  3.0  3.0  4.00   \n",
       "2    1   20     193  13.10.1995       67       62       58  4.5  4.0  3.25   \n",
       "3    1   29     170  01.12.1986      100      100      100  5.0  5.0  5.00   \n",
       "4    0   20     160  01.09.1995       70       54       46  3.0  3.0  3.00   \n",
       "\n",
       "    ...    yes3  yes4  yes5  yes6  yes7  hostel  duration  course  coin  \\\n",
       "0   ...       0     0     0     0     0       0        15       2     1   \n",
       "1   ...       1     0     0     0     0       0        90       2     0   \n",
       "2   ...       1     0     0     0     0       0        15       2     0   \n",
       "3   ...       1     1     1     1     1       0        30       5     0   \n",
       "4   ...       0     0     0     0     0       0        20       2     0   \n",
       "\n",
       "   stones  \n",
       "0       2  \n",
       "1       0  \n",
       "2       0  \n",
       "3       2  \n",
       "4       1  \n",
       "\n",
       "[5 rows x 26 columns]"
      ]
     },
     "execution_count": 55,
     "metadata": {},
     "output_type": "execute_result"
    }
   ],
   "source": [
    "import pandas as pd\n",
    "import numpy as np\n",
    "from matplotlib import pyplot as plt\n",
    "import seaborn as sns\n",
    "df = pd.read_csv('data_csv.csv', sep=';')\n",
    "df_old=df\n",
    "df_old.head()"
   ]
  },
  {
   "cell_type": "code",
   "execution_count": 56,
   "metadata": {},
   "outputs": [
    {
     "data": {
      "text/html": [
       "<div>\n",
       "<table border=\"1\" class=\"dataframe\">\n",
       "  <thead>\n",
       "    <tr style=\"text-align: right;\">\n",
       "      <th></th>\n",
       "      <th>sex</th>\n",
       "      <th>course</th>\n",
       "      <th>coin</th>\n",
       "      <th>stones</th>\n",
       "      <th>yes1</th>\n",
       "    </tr>\n",
       "  </thead>\n",
       "  <tbody>\n",
       "    <tr>\n",
       "      <th>0</th>\n",
       "      <td>0</td>\n",
       "      <td>2</td>\n",
       "      <td>1</td>\n",
       "      <td>2</td>\n",
       "      <td>1</td>\n",
       "    </tr>\n",
       "    <tr>\n",
       "      <th>1</th>\n",
       "      <td>1</td>\n",
       "      <td>2</td>\n",
       "      <td>0</td>\n",
       "      <td>0</td>\n",
       "      <td>0</td>\n",
       "    </tr>\n",
       "    <tr>\n",
       "      <th>2</th>\n",
       "      <td>1</td>\n",
       "      <td>2</td>\n",
       "      <td>0</td>\n",
       "      <td>0</td>\n",
       "      <td>1</td>\n",
       "    </tr>\n",
       "    <tr>\n",
       "      <th>3</th>\n",
       "      <td>1</td>\n",
       "      <td>5</td>\n",
       "      <td>0</td>\n",
       "      <td>2</td>\n",
       "      <td>1</td>\n",
       "    </tr>\n",
       "    <tr>\n",
       "      <th>4</th>\n",
       "      <td>0</td>\n",
       "      <td>2</td>\n",
       "      <td>0</td>\n",
       "      <td>1</td>\n",
       "      <td>0</td>\n",
       "    </tr>\n",
       "  </tbody>\n",
       "</table>\n",
       "</div>"
      ],
      "text/plain": [
       "   sex  course  coin  stones  yes1\n",
       "0    0       2     1       2     1\n",
       "1    1       2     0       0     0\n",
       "2    1       2     0       0     1\n",
       "3    1       5     0       2     1\n",
       "4    0       2     0       1     0"
      ]
     },
     "execution_count": 56,
     "metadata": {},
     "output_type": "execute_result"
    }
   ],
   "source": [
    "df=df_old[['sex','course','coin','stones','yes1']]\n",
    "df.head()"
   ]
  },
  {
   "cell_type": "code",
   "execution_count": 57,
   "metadata": {},
   "outputs": [
    {
     "data": {
      "text/html": [
       "<div>\n",
       "<table border=\"1\" class=\"dataframe\">\n",
       "  <thead>\n",
       "    <tr style=\"text-align: right;\">\n",
       "      <th></th>\n",
       "      <th>sex</th>\n",
       "      <th>course</th>\n",
       "      <th>coin</th>\n",
       "      <th>stones</th>\n",
       "      <th>yes1</th>\n",
       "    </tr>\n",
       "  </thead>\n",
       "  <tbody>\n",
       "    <tr>\n",
       "      <th>0</th>\n",
       "      <td>1</td>\n",
       "      <td>2</td>\n",
       "      <td>1</td>\n",
       "      <td>1</td>\n",
       "      <td>NaN</td>\n",
       "    </tr>\n",
       "  </tbody>\n",
       "</table>\n",
       "</div>"
      ],
      "text/plain": [
       "   sex  course  coin  stones  yes1\n",
       "0    1       2     1       1   NaN"
      ]
     },
     "execution_count": 57,
     "metadata": {},
     "output_type": "execute_result"
    }
   ],
   "source": [
    "# не будем дя простоты разбивать на тренировочную и тестовую выборку\n",
    "\n",
    "# a person for prediction\n",
    "man= pd.DataFrame([[1,2,1,1,np.nan]], columns=list(df.columns.values))\n",
    "man"
   ]
  },
  {
   "cell_type": "code",
   "execution_count": 58,
   "metadata": {},
   "outputs": [
    {
     "name": "stdout",
     "output_type": "stream",
     "text": [
      "31\n",
      "18\n",
      "34\n",
      "32\n",
      "38\n"
     ]
    }
   ],
   "source": [
    "print(df[df['sex']==1].shape[0])\n",
    "print(df[df['coin']==1].shape[0])\n",
    "print(df[df['course']==2].shape[0])\n",
    "print(df[df['stones']==1].shape[0])\n",
    "print(df[df['yes1']==1].shape[0])"
   ]
  },
  {
   "cell_type": "markdown",
   "metadata": {},
   "source": [
    "# Bayes formula\n",
    "Pr(Y|A)=Pr(A|Y)Pr(Y)/Pr(A)"
   ]
  },
  {
   "cell_type": "markdown",
   "metadata": {},
   "source": [
    "Нужно найти:\n",
    "Pr(yes1=1)=? Это будет Pr(Y) для формулы Байеса\n",
    "Pr(sex=1|yes1=1)=? Это будет Pr(А|Y) для формулы Байеса\n",
    "\n",
    "То же самое для класса 0:\n",
    "\n",
    "Pr(yes1=0)=? Это будет Pr(Y) для формулы Байеса\n",
    "Pr(sex=1|yes1=0)=? Это будет Pr(А|Y) для формулы Байеса\n",
    "\n",
    "\n",
    "То же самое нужно сделать и для остальных признаков:\n",
    "\n",
    "Pr(coin=1|yes1=1)=?\n",
    "\n",
    "Pr(stones=1|yes1=1)=?\n",
    "\n",
    "Pr(course=2|yes1=1)=?\n",
    "\n",
    "Pr(coin=1|yes1=0)=?\n",
    "\n",
    "Pr(stones=1|yes1=0)=?\n",
    "\n",
    "Pr(course=2|yes1=0)=?\n"
   ]
  },
  {
   "cell_type": "code",
   "execution_count": 59,
   "metadata": {},
   "outputs": [
    {
     "name": "stdout",
     "output_type": "stream",
     "text": [
      "0.6333333333333333 0.36666666666666664\n"
     ]
    }
   ],
   "source": [
    "# так считаем вероятности Pr(yes1=1),Pr(yes1=0)\n",
    "pr_yes1_1=df[df['yes1']==1].shape[0]/df.shape[0]\n",
    "pr_yes1_0=df[df['yes1']==0].shape[0]/df.shape[0]\n",
    "print(pr_yes1_1,pr_yes1_0)"
   ]
  },
  {
   "cell_type": "code",
   "execution_count": 60,
   "metadata": {},
   "outputs": [
    {
     "name": "stdout",
     "output_type": "stream",
     "text": [
      "0.4473684210526316 0.6363636363636364\n"
     ]
    }
   ],
   "source": [
    "# считаем Pr(sex=1|yes1=0),Pr(sex=1|yes1=1) (!!!) их сумма не обязана быть равной =1\n",
    "pr_sex_1=df[np.logical_and(df['yes1']==1,df['sex']==1)].shape[0]/df[df['yes1']==1].shape[0]\n",
    "pr_sex_0=df[np.logical_and(df['yes1']==0,df['sex']==1)].shape[0]/df[df['yes1']==0].shape[0]\n",
    "print(pr_sex_1,pr_sex_0)"
   ]
  },
  {
   "cell_type": "code",
   "execution_count": 62,
   "metadata": {},
   "outputs": [
    {
     "name": "stdout",
     "output_type": "stream",
     "text": [
      "0.34210526315789475 0.22727272727272727\n"
     ]
    }
   ],
   "source": [
    "# аналогично считаем вероятности для бинарного признака coin\n",
    "pr_coin_1=df[np.logical_and(df['yes1']==1,df['coin']==1)].shape[0]/df[df['yes1']==1].shape[0]\n",
    "pr_coin_0=df[np.logical_and(df['yes1']==0,df['coin']==1)].shape[0]/df[df['yes1']==0].shape[0]\n",
    "print(pr_coin_1,pr_coin_0)"
   ]
  },
  {
   "cell_type": "code",
   "execution_count": 63,
   "metadata": {},
   "outputs": [
    {
     "name": "stdout",
     "output_type": "stream",
     "text": [
      "0.631578947368421 0.45454545454545453\n"
     ]
    }
   ],
   "source": [
    "#Внимание! А теперь признак \"курс\". Он не бинарный. Но тут все аналогично\n",
    "pr_course_1=df[np.logical_and(df['yes1']==1,df['course']==2)].shape[0]/df[df['yes1']==1].shape[0]\n",
    "pr_course_0=df[np.logical_and(df['yes1']==0,df['course']==2)].shape[0]/df[df['yes1']==0].shape[0]\n",
    "print(pr_course_1,pr_course_0)"
   ]
  },
  {
   "cell_type": "code",
   "execution_count": 64,
   "metadata": {},
   "outputs": [
    {
     "name": "stdout",
     "output_type": "stream",
     "text": [
      "0.5789473684210527 0.45454545454545453\n"
     ]
    }
   ],
   "source": [
    "#Внимание! А теперь признак \"stones\". Он не бинарный. Но тут все аналогично\n",
    "pr_stones_1=df[np.logical_and(df['yes1']==1,df['stones']==1)].shape[0]/df[df['yes1']==1].shape[0]\n",
    "pr_stones_0=df[np.logical_and(df['yes1']==0,df['stones']==1)].shape[0]/df[df['yes1']==0].shape[0]\n",
    "print(pr_stones_1,pr_stones_0)"
   ]
  },
  {
   "cell_type": "code",
   "execution_count": 65,
   "metadata": {},
   "outputs": [
    {
     "name": "stdout",
     "output_type": "stream",
     "text": [
      "0.03544248432716139 0.010956674179814675\n"
     ]
    }
   ],
   "source": [
    "# Все готово для вычисления числителя в формуле Байеса\n",
    "pr_1_numerator=pr_yes1_1*pr_sex_1*pr_coin_1*pr_course_1*pr_stones_1\n",
    "pr_0_numerator=pr_yes1_0*pr_sex_0*pr_coin_0*pr_course_0*pr_stones_0\n",
    "print(pr_1_numerator,pr_0_numerator)"
   ]
  },
  {
   "cell_type": "code",
   "execution_count": 66,
   "metadata": {},
   "outputs": [
    {
     "name": "stdout",
     "output_type": "stream",
     "text": [
      "не сдаст: 0.23613950193013417\n",
      "сдаст: 0.7638604980698658\n"
     ]
    }
   ],
   "source": [
    "#А как получить окончательный ответ?\n",
    "R=pr_1_numerator/pr_0_numerator\n",
    "print('не сдаст:',1/(R+1))\n",
    "print('сдаст:',1-(1/(R+1)))"
   ]
  },
  {
   "cell_type": "markdown",
   "metadata": {},
   "source": [
    "# Домашка\n",
    "Написанный выше алгоритм Байеса достаточно неэффективен: мы фактически копи-пастом создали несколько ячеек с похожим кодом. Если бы таблица содержала бы 100 нецелевых признаков, то нам бы пришлось писать 100 ячеек с кодом. (((((((\n",
    "\n",
    "Короче говоря, нужно написать цикл, который\n",
    "\n",
    "1) бежит по нецелевым признакам\n",
    "\n",
    "2) для каждого нецелевого признака считает пару вероятностей по формулам выше\n",
    "\n",
    "3) найденные в п.2) вероятности сохранить в списки\n",
    "\n",
    "После цикла: нужно пробежатьс по полученным спискам и вычислить \n",
    "\n",
    "1) сначала числители для формулы Байеса\n",
    "\n",
    "2) а потом и окончателные вероятности\n",
    "\n",
    "П.С. В цикл можете не перебирать ЦЕЛЕВОЙ признак, а вычислить числа pr_yes1_1, pr_yes1_0 по нашим формулам."
   ]
  }
 ],
 "metadata": {
  "kernelspec": {
   "display_name": "Python 3",
   "language": "python",
   "name": "python3"
  },
  "language_info": {
   "codemirror_mode": {
    "name": "ipython",
    "version": 3
   },
   "file_extension": ".py",
   "mimetype": "text/x-python",
   "name": "python",
   "nbconvert_exporter": "python",
   "pygments_lexer": "ipython3",
   "version": "3.7.0"
  }
 },
 "nbformat": 4,
 "nbformat_minor": 2
}
