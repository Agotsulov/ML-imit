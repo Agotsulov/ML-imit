{
 "cells": [
  {
   "cell_type": "markdown",
   "metadata": {},
   "source": [
    "найти всех студентов, у которых ЕГЭ по русскому больше ЕГЭ по математике (не сильно ли много таких? ))))))"
   ]
  },
  {
   "cell_type": "code",
   "execution_count": 30,
   "metadata": {},
   "outputs": [
    {
     "name": "stdout",
     "output_type": "stream",
     "text": [
      "    sex  age  growth       birth  EGEmath  EGEruss  EGEphis    s1    s2    s3  \\\n",
      "0     0   19     173  14.05.1996       56       67       47   3,6   3,6   3,5   \n",
      "4     0   19     161  25.10.1996       75       79       59   4,7     5     5   \n",
      "6     1   19     175  20.05.1996       56       90       42     3     3  2,75   \n",
      "7     0   21     164  13.09.1994       68       95       50   3,5   3,5  3,25   \n",
      "9     1   20     177  31.12.1995       63       67       73     3     3     3   \n",
      "11    0   20     165  16.05.1995       63       66       43   3,5  3,25  3,75   \n",
      "13    1   21     198  07.11.1993       57       62       63   3,4   3,4   3,4   \n",
      "14    0   21     170  02.04.1994       70       92       60     3  3,25  4,25   \n",
      "17    0   21     173  17.12.1994       66       69       53     3     3     4   \n",
      "18    0   20     152  19.06.1995       50       72       50     3     3     3   \n",
      "19    0   21     175  15.02.1995       92       94       88     5     5     5   \n",
      "21    1   21     187  18.12.1994       74       87       75  3,25  3,25   3,5   \n",
      "23    0   20     155  18.01.1996       68       79       53     3  3,25     3   \n",
      "24    1   21     177  01.04.1995       42       90       68     3     3     3   \n",
      "25    0   22     169  02.04.1994       70       92       59     3  3,25  4,25   \n",
      "30    1   20     173  25.06.1994       67       81       72     3     4     3   \n",
      "31    0   20     156  05.03.1996       60       90       46   3,5   3,5   3,5   \n",
      "32    1   19     188  10.06.1996       70       73       54     3     4     3   \n",
      "34    1   19     173  12.01.1997       75       82       60   4,6     5     5   \n",
      "37    1   19     177  02.09.1996       80       84       57     4   4,3   4,5   \n",
      "39    0   19     165  19.09.1996       53       60       60     3     3     3   \n",
      "41    0   19     161  27.10.1996       60       70       41     3     3     3   \n",
      "47    0   19     165  11.08.1996       73       79       58   4,3   4,3   4,8   \n",
      "48    0   19     168  08.02.1997       75       88       57     3   3,7     5   \n",
      "49    0   19     169  08.06.1996       56       65       54   3,5   3,5   3,5   \n",
      "50    0   20     160  14.03.1996       52       69       57   3,5   3,5   3,5   \n",
      "52    0   19     161  25.10.1996       75       79       59   4,9   4,9   4,9   \n",
      "54    0   19     173  14.05.1996       56       67       47   3,6   3,6   3,5   \n",
      "55    0   19     160  15.07.1996       56       76       49   3,7     3  3,75   \n",
      "57    0   18     159  18.12.1997       78       95       73   4,3     0     0   \n",
      "\n",
      "     ...   yes3 yes4 yes5 yes6  yes7  hostel  duration  course  coin  stones  \n",
      "0    ...      0    0    0    0     0       0        15       2     1       2  \n",
      "4    ...      1    0    0    0     0       0        30       2     1       1  \n",
      "6    ...      0    0    0    0     0       0        30       2     1       1  \n",
      "7    ...      0    0    0    0     0       1        60       3     1       1  \n",
      "9    ...      0    0    0    0     0       0        15       2     0       0  \n",
      "11   ...      0    1    1    1     1       0        40       4     0       1  \n",
      "13   ...      0    1    1    0     0       0        20       4     0       1  \n",
      "14   ...      1    0    1    1     1       0        25       4     0       1  \n",
      "17   ...      1    1    0    1     1       0        90       4     1       0  \n",
      "18   ...      0    0    0    0     0       0        60       3     0       0  \n",
      "19   ...      1    1    1    0     0       0        30       3     0       1  \n",
      "21   ...      0    0    0    0     0       0        60       3     0       2  \n",
      "23   ...      0    0    0    0     0       0        13       3     0       1  \n",
      "24   ...      0    0    0    0     0       0        20       3     1       2  \n",
      "25   ...      1    0    1    1     1       0        25       4     1       1  \n",
      "30   ...      0    0    0    0     0       0        60       3     1       2  \n",
      "31   ...      0    0    0    0     0       1        10       2     0       1  \n",
      "32   ...      0    0    0    0     0       0        60       2     0       1  \n",
      "34   ...      1    0    0    0     0       0        60       2     0       1  \n",
      "37   ...      1    0    0    0     0       0        10       2     0       1  \n",
      "39   ...      0    0    0    0     0       0        25       2     1       1  \n",
      "41   ...      0    0    0    0     0       0        90       2     0       0  \n",
      "47   ...      1    0    0    0     0       0        30       2     0       0  \n",
      "48   ...      1    0    0    0     0       0        60       2     0       0  \n",
      "49   ...      0    0    0    0     0       1        15       2     0       1  \n",
      "50   ...      0    0    0    0     0       1        15       2     0       1  \n",
      "52   ...      1    0    0    0     0       0        40       2     1       1  \n",
      "54   ...      0    0    0    0     0       0        15       2     1       1  \n",
      "55   ...      0    0    0    0     0       0        15       2     0       1  \n",
      "57   ...      0    0    0    0     0       0        75       1     0       1  \n",
      "\n",
      "[30 rows x 26 columns]\n"
     ]
    }
   ],
   "source": [
    "import pandas as pd\n",
    "import numpy as np\n",
    "df = pd.read_csv('data_csv.csv', sep=';')\n",
    "\n",
    "print(df[(df['EGEruss'] > df['EGEmath'])]) #Много"
   ]
  },
  {
   "cell_type": "markdown",
   "metadata": {},
   "source": [
    "найти сумму баллов по трем экзаменам ЕГЭ для мужчин и для женщин. Какой пол в среднем имеет лучшую сумму балов? Подумайте над оптимальным порядком суммирования здесь."
   ]
  },
  {
   "cell_type": "code",
   "execution_count": 28,
   "metadata": {},
   "outputs": [
    {
     "name": "stdout",
     "output_type": "stream",
     "text": [
      "Способ 1\n",
      "200.86666666666667\n",
      "203.6206896551724\n"
     ]
    },
    {
     "ename": "KeyError",
     "evalue": "1",
     "output_type": "error",
     "traceback": [
      "\u001b[1;31m---------------------------------------------------------------------------\u001b[0m",
      "\u001b[1;31mKeyError\u001b[0m                                  Traceback (most recent call last)",
      "\u001b[1;32m<ipython-input-28-e6ce4d3abf78>\u001b[0m in \u001b[0;36m<module>\u001b[1;34m()\u001b[0m\n\u001b[0;32m     12\u001b[0m \u001b[0msum_m\u001b[0m \u001b[1;33m=\u001b[0m \u001b[1;33m[\u001b[0m\u001b[1;36m0\u001b[0m\u001b[1;33m]\u001b[0m \u001b[1;33m*\u001b[0m \u001b[0mw\u001b[0m\u001b[1;33m[\u001b[0m\u001b[1;34m'EGEmath'\u001b[0m\u001b[1;33m]\u001b[0m\u001b[1;33m.\u001b[0m\u001b[0mcount\u001b[0m\u001b[1;33m(\u001b[0m\u001b[1;33m)\u001b[0m\u001b[1;33m\u001b[0m\u001b[0m\n\u001b[0;32m     13\u001b[0m \u001b[1;32mfor\u001b[0m \u001b[0mi\u001b[0m \u001b[1;32min\u001b[0m \u001b[0mrange\u001b[0m\u001b[1;33m(\u001b[0m\u001b[1;36m0\u001b[0m\u001b[1;33m,\u001b[0m \u001b[0mw\u001b[0m\u001b[1;33m[\u001b[0m\u001b[1;34m'EGEmath'\u001b[0m\u001b[1;33m]\u001b[0m\u001b[1;33m.\u001b[0m\u001b[0mcount\u001b[0m\u001b[1;33m(\u001b[0m\u001b[1;33m)\u001b[0m\u001b[1;33m)\u001b[0m\u001b[1;33m:\u001b[0m\u001b[1;33m\u001b[0m\u001b[0m\n\u001b[1;32m---> 14\u001b[1;33m      \u001b[0msum_m\u001b[0m\u001b[1;33m[\u001b[0m\u001b[0mi\u001b[0m\u001b[1;33m]\u001b[0m \u001b[1;33m=\u001b[0m \u001b[0mw\u001b[0m\u001b[1;33m[\u001b[0m\u001b[1;34m'EGEmath'\u001b[0m\u001b[1;33m]\u001b[0m\u001b[1;33m[\u001b[0m\u001b[0mi\u001b[0m\u001b[1;33m]\u001b[0m \u001b[1;33m+\u001b[0m \u001b[0mw\u001b[0m\u001b[1;33m[\u001b[0m\u001b[1;34m'EGEruss'\u001b[0m\u001b[1;33m]\u001b[0m\u001b[1;33m[\u001b[0m\u001b[0mi\u001b[0m\u001b[1;33m]\u001b[0m \u001b[1;33m+\u001b[0m \u001b[0mw\u001b[0m\u001b[1;33m[\u001b[0m\u001b[1;34m'EGEphis'\u001b[0m\u001b[1;33m]\u001b[0m\u001b[1;33m[\u001b[0m\u001b[0mi\u001b[0m\u001b[1;33m]\u001b[0m\u001b[1;33m\u001b[0m\u001b[0m\n\u001b[0m\u001b[0;32m     15\u001b[0m \u001b[0mprint\u001b[0m\u001b[1;33m(\u001b[0m\u001b[0msum_m\u001b[0m\u001b[1;33m)\u001b[0m\u001b[1;33m\u001b[0m\u001b[0m\n",
      "\u001b[1;32mD:\\Program Files\\Anaconda3\\lib\\site-packages\\pandas\\core\\series.py\u001b[0m in \u001b[0;36m__getitem__\u001b[1;34m(self, key)\u001b[0m\n\u001b[0;32m    765\u001b[0m         \u001b[0mkey\u001b[0m \u001b[1;33m=\u001b[0m \u001b[0mcom\u001b[0m\u001b[1;33m.\u001b[0m\u001b[0m_apply_if_callable\u001b[0m\u001b[1;33m(\u001b[0m\u001b[0mkey\u001b[0m\u001b[1;33m,\u001b[0m \u001b[0mself\u001b[0m\u001b[1;33m)\u001b[0m\u001b[1;33m\u001b[0m\u001b[0m\n\u001b[0;32m    766\u001b[0m         \u001b[1;32mtry\u001b[0m\u001b[1;33m:\u001b[0m\u001b[1;33m\u001b[0m\u001b[0m\n\u001b[1;32m--> 767\u001b[1;33m             \u001b[0mresult\u001b[0m \u001b[1;33m=\u001b[0m \u001b[0mself\u001b[0m\u001b[1;33m.\u001b[0m\u001b[0mindex\u001b[0m\u001b[1;33m.\u001b[0m\u001b[0mget_value\u001b[0m\u001b[1;33m(\u001b[0m\u001b[0mself\u001b[0m\u001b[1;33m,\u001b[0m \u001b[0mkey\u001b[0m\u001b[1;33m)\u001b[0m\u001b[1;33m\u001b[0m\u001b[0m\n\u001b[0m\u001b[0;32m    768\u001b[0m \u001b[1;33m\u001b[0m\u001b[0m\n\u001b[0;32m    769\u001b[0m             \u001b[1;32mif\u001b[0m \u001b[1;32mnot\u001b[0m \u001b[0mis_scalar\u001b[0m\u001b[1;33m(\u001b[0m\u001b[0mresult\u001b[0m\u001b[1;33m)\u001b[0m\u001b[1;33m:\u001b[0m\u001b[1;33m\u001b[0m\u001b[0m\n",
      "\u001b[1;32mD:\\Program Files\\Anaconda3\\lib\\site-packages\\pandas\\core\\indexes\\base.py\u001b[0m in \u001b[0;36mget_value\u001b[1;34m(self, series, key)\u001b[0m\n\u001b[0;32m   3116\u001b[0m         \u001b[1;32mtry\u001b[0m\u001b[1;33m:\u001b[0m\u001b[1;33m\u001b[0m\u001b[0m\n\u001b[0;32m   3117\u001b[0m             return self._engine.get_value(s, k,\n\u001b[1;32m-> 3118\u001b[1;33m                                           tz=getattr(series.dtype, 'tz', None))\n\u001b[0m\u001b[0;32m   3119\u001b[0m         \u001b[1;32mexcept\u001b[0m \u001b[0mKeyError\u001b[0m \u001b[1;32mas\u001b[0m \u001b[0me1\u001b[0m\u001b[1;33m:\u001b[0m\u001b[1;33m\u001b[0m\u001b[0m\n\u001b[0;32m   3120\u001b[0m             \u001b[1;32mif\u001b[0m \u001b[0mlen\u001b[0m\u001b[1;33m(\u001b[0m\u001b[0mself\u001b[0m\u001b[1;33m)\u001b[0m \u001b[1;33m>\u001b[0m \u001b[1;36m0\u001b[0m \u001b[1;32mand\u001b[0m \u001b[0mself\u001b[0m\u001b[1;33m.\u001b[0m\u001b[0minferred_type\u001b[0m \u001b[1;32min\u001b[0m \u001b[1;33m[\u001b[0m\u001b[1;34m'integer'\u001b[0m\u001b[1;33m,\u001b[0m \u001b[1;34m'boolean'\u001b[0m\u001b[1;33m]\u001b[0m\u001b[1;33m:\u001b[0m\u001b[1;33m\u001b[0m\u001b[0m\n",
      "\u001b[1;32mpandas\\_libs\\index.pyx\u001b[0m in \u001b[0;36mpandas._libs.index.IndexEngine.get_value\u001b[1;34m()\u001b[0m\n",
      "\u001b[1;32mpandas\\_libs\\index.pyx\u001b[0m in \u001b[0;36mpandas._libs.index.IndexEngine.get_value\u001b[1;34m()\u001b[0m\n",
      "\u001b[1;32mpandas\\_libs\\index.pyx\u001b[0m in \u001b[0;36mpandas._libs.index.IndexEngine.get_loc\u001b[1;34m()\u001b[0m\n",
      "\u001b[1;32mpandas\\_libs\\hashtable_class_helper.pxi\u001b[0m in \u001b[0;36mpandas._libs.hashtable.Int64HashTable.get_item\u001b[1;34m()\u001b[0m\n",
      "\u001b[1;32mpandas\\_libs\\hashtable_class_helper.pxi\u001b[0m in \u001b[0;36mpandas._libs.hashtable.Int64HashTable.get_item\u001b[1;34m()\u001b[0m\n",
      "\u001b[1;31mKeyError\u001b[0m: 1"
     ]
    }
   ],
   "source": [
    "\n",
    "print(\"Способ 1\")\n",
    "m = df[(df['sex'] == 1)]\n",
    "w = df[(df['sex'] == 0)]\n",
    "#print(m)\n",
    "#print(w)\n",
    "mean_m = m['EGEmath'].mean() + m['EGEruss'].mean() + m['EGEphis'].mean()\n",
    "mean_w = w['EGEmath'].mean() + w['EGEruss'].mean() + w['EGEphis'].mean()\n",
    "print(mean_m)\n",
    "print(mean_w)\n"
   ]
  },
  {
   "cell_type": "markdown",
   "metadata": {},
   "source": [
    "Признак duration - это время, которое студенты тратят на приход к первой паре. Найти студента из общаги с максимальным значением этого признака. Найти студента из общаги с минимальным значением этого признака. Поржать над этим!!!"
   ]
  },
  {
   "cell_type": "code",
   "execution_count": 34,
   "metadata": {},
   "outputs": [
    {
     "name": "stdout",
     "output_type": "stream",
     "text": [
      "Дольше всех идет\n",
      "   sex  age  growth       birth  EGEmath  EGEruss  EGEphis   s1   s2    s3  \\\n",
      "7    0   21     164  13.09.1994       68       95       50  3,5  3,5  3,25   \n",
      "\n",
      "    ...   yes3 yes4 yes5 yes6  yes7  hostel  duration  course  coin  stones  \n",
      "7   ...      0    0    0    0     0       1        60       3     1       1  \n",
      "\n",
      "[1 rows x 26 columns]\n",
      "Быстрее всех идет\n",
      "    sex  age  growth       birth  EGEmath  EGEruss  EGEphis   s1   s2   s3  \\\n",
      "31    0   20     156  05.03.1996       60       90       46  3,5  3,5  3,5   \n",
      "\n",
      "     ...   yes3 yes4 yes5 yes6  yes7  hostel  duration  course  coin  stones  \n",
      "31   ...      0    0    0    0     0       1        10       2     0       1  \n",
      "\n",
      "[1 rows x 26 columns]\n"
     ]
    }
   ],
   "source": [
    "h = df[(df['hostel'] == 1)]\n",
    "#print(h)\n",
    "d = h.sort_values(by='duration',ascending=False)\n",
    "#print(d)\n",
    "print(\"Дольше всех идет\")\n",
    "print(d.head(1))\n",
    "print(\"Быстрее всех идет\")\n",
    "print(d.tail(1))"
   ]
  },
  {
   "cell_type": "code",
   "execution_count": null,
   "metadata": {},
   "outputs": [],
   "source": []
  }
 ],
 "metadata": {
  "kernelspec": {
   "display_name": "Python 3",
   "language": "python",
   "name": "python3"
  },
  "language_info": {
   "codemirror_mode": {
    "name": "ipython",
    "version": 3
   },
   "file_extension": ".py",
   "mimetype": "text/x-python",
   "name": "python",
   "nbconvert_exporter": "python",
   "pygments_lexer": "ipython3",
   "version": "3.7.0"
  }
 },
 "nbformat": 4,
 "nbformat_minor": 2
}
